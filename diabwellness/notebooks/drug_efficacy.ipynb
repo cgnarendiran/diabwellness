{
 "cells": [
  {
   "cell_type": "code",
   "execution_count": null,
   "id": "d522e85a",
   "metadata": {},
   "outputs": [],
   "source": [
    "# Copyright 2022 Diabwellness.ai, Inc.\n",
    "# All rights reserved"
   ]
  },
  {
   "cell_type": "markdown",
   "id": "33496281",
   "metadata": {},
   "source": [
    "# Drug efficiency\n",
    "\n",
    "Notebook to map drug names to generic names and finally to drug classes (scientific composition) and measure the efficiency of possible first-prescription drug combinations based on first two recorded HbA1c values of patients.\n",
    "\n",
    "We use the following tables for this analysis: \n",
    "- `prescription_details`: contains the prescriptions corresponding to every appointment\n",
    "- `drug_master`: contains the drug names to generic names mapping\n",
    "- `measurement_details`: contains the various measurements corresponding to every appointments\n",
    "- `patient_details`: contains the age, gender and diabetic duration of the patients"
   ]
  },
  {
   "cell_type": "code",
   "execution_count": null,
   "id": "c8efe3ad",
   "metadata": {},
   "outputs": [],
   "source": [
    "# necessary library imports\n",
    "import pandas as pd\n",
    "import numpy as np\n",
    "import matplotlib.pyplot as plt\n",
    "\n",
    "from diabwellness.utils.data_utils import (\n",
    "    map_generic_names,\n",
    "    map_drug_classes,\n",
    "    extract_drug_combinations,\n",
    "    preprocess_measurements,\n",
    "    a1c_aggregator,\n",
    "    calculate_efficacy,\n",
    "    extract_biguanide_combinations,\n",
    ")\n",
    "\n",
    "# Change jupyter notebook to full width for extra visualization space\n",
    "from IPython.display import display, HTML\n",
    "\n",
    "display(HTML(\"<style>.container { width:100% !important; }</style>\"))\n",
    "\n",
    "pd.set_option(\"display.max_rows\", 50000)\n",
    "pd.set_option(\"display.max_columns\", None)"
   ]
  },
  {
   "cell_type": "code",
   "execution_count": null,
   "id": "8fd200a0",
   "metadata": {},
   "outputs": [],
   "source": [
    "pres_df = pd.read_csv(\n",
    "    \"../database/prescription_details.csv\", on_bad_lines=\"skip\", low_memory=False\n",
    ")\n",
    "pres_df.info()\n",
    "\n",
    "drug_df = pd.read_csv(\n",
    "    \"../database/drug_master.csv\", on_bad_lines=\"skip\", low_memory=False\n",
    ")\n",
    "drug_df.info()\n",
    "\n",
    "colnames = [\n",
    "    \"ID\",\n",
    "    \"APPOINT_ID\",\n",
    "    \"BMI\",\n",
    "    \"BP\",\n",
    "    \"COMPLAINTS\",\n",
    "    \"CREATED_BY\",\n",
    "    \"CREATED_DATE\",\n",
    "    \"DIAGNOSIS\",\n",
    "    \"HEIGHT\",\n",
    "    \"LOCATION_ID\",\n",
    "    \"NFID\",\n",
    "    \"STATUS\",\n",
    "    \"TEMPERATURE\",\n",
    "    \"UPDATED_BY\",\n",
    "    \"UPDATED_DATE\",\n",
    "    \"WC\",\n",
    "    \"WEIGHT\",\n",
    "    \"PATIENT_TYPE\",\n",
    "    \"A1C\",\n",
    "    \"DIA_BP\",\n",
    "    \"DURATION_TT\",\n",
    "    \"FS\",\n",
    "    \"NOTES\",\n",
    "    \"PP\",\n",
    "    \"PULSE\",\n",
    "    \"REVIEW_DATYS\",\n",
    "    \"ADMISSION_REQUIRED\",\n",
    "    \"REVIEW_DATE\",\n",
    "    \"LAB_FOR_NEXT_VISIT\",\n",
    "]\n",
    "meas_df = pd.read_csv(\n",
    "    \"../database/measurement_details.tsv\",\n",
    "    sep=\"\\t\",\n",
    "    names=colnames,\n",
    "    header=None,\n",
    "    parse_dates=[\"CREATED_DATE\", \"UPDATED_DATE\"],\n",
    "    low_memory=False,\n",
    ")\n",
    "meas_df.info()"
   ]
  },
  {
   "cell_type": "markdown",
   "id": "bc2ff25c",
   "metadata": {},
   "source": [
    "### Takeaways for prescription details:\n",
    "1. APPOINT_ID: 76.3k entries are 0; no outliers!\n",
    "2. DETAIL_ID: 76.8k entries are 0; more info on this column is required. remove it.\n",
    "3. DRUG_DOSE: 471.2k entries are 1; not uniform, best to remove it\n",
    "4. DRUG_NAME: is mostly fine, didn't see any problems\n",
    "5. DRUG_TYPE: contains 8 types; no problems; schedule it\n",
    "6. INTAKE: contains NLP and tamil phrases as well; better to remove it\n",
    "7. ITEM_ID: seems proper; what is it btw? cross check Drug master consultant.\n",
    "8. PATIENT_ID: seems proper as well\n",
    "9. PATIENT_OLD_ID: seems proper; correlate it with the new data.\n",
    "10. QTY: no problems as such, but can be ambiguous when different drugs are compared, so remove it?\n",
    "11. DRUG_STRENGTH: 94.7k entries are -; ambiguous; best to remove it?\n",
    "12. PHARMACY_DRUG_ID: 512.2k entries are 0; remove it?\n",
    "13. PHARMACY_SENT_IND: looks proper; only two categories; what does it refer to tho? remove it.\n",
    "\n",
    "### Takeaways for drug master:\n",
    "1. DRUG_NAME: Always existing; can't find outliers or invalid names as a ML engineer\n",
    "2. DRUG_TYPE: Has some outliers and repeated values such as (TAB and Tab, INJ and INJ.)\n",
    "3. GENERIC_NAME: not so generic; not just composition but also the measurements are there. How do we make it generic?\n",
    "4. INSULIN_CONTAINS: quite random; more information required; bottle 400 catridge 300; 20 units/day\n",
    "5. DOSAGE_TYPE: few outliers; more information required\n",
    "6. DRUG_ID: seems proper; should be used to link with prescriptions\n",
    "\n",
    "### Takeaways for measurement details:\n",
    "1. APPOINT_ID: 116k entries are 0; in measurements analysis can be done without APPOINT ID; some appoint ID repeated -> actually the same entry repeated, so drop duplicates!\n",
    "   Take Created Date as input to link and create artificial Appoint ID for 0 IDs.\n",
    "2. NFID: Very clean; nothing to change\n",
    "3. COMPLAINTS: The nil cases include some descriptions as well sometimes; and nil itself is valuable! \n",
    "   Perhaps fillna with \"nil\"? Okay\n",
    "   there are some \"Nan\" strings as well; okay\n",
    "   also this is where COMPLAINTS, PATIETNT_TYPE and DIAGNOSIS are all \"Nan\" (6235 entries). What do we do about them?\n",
    "4. PATIENT_TYPE: 14k Nan values; 6236 \"Nan\" strings; outliers can be processed to convert into good values; get help from doctor; \n",
    "   relevant entries: DM, NON DM, THY, HT, NON MS, IDDM, InflDisorder \n",
    "   Impute same patient type for a patient; still Nan: impute values from Complaints clues;\n",
    "   \"30\", \"15\": replace with DM\n",
    "    NON DM: Allergy, Anemia, Hlip, Hyperlipidemia\n",
    "    GDM: DM\n",
    "    CKD: based on diagnosis\n",
    "5. DIAGNOSIS: Check Nan values, is there something that we can do about this? Ask doctor; perhaps intented values?\n",
    "6. HEIGHT: 2887 entries are 0; some outliers; zeros can be filled by the mean/mode for the same patient\n",
    "7. WEIGHT: 2384 entries are 0; some outliers; zeros can be filled by mean/ mode for the same patient (this actually can be problematic, b/c patients can increase their weights); interpolation between values?\n",
    "8. BMI: recompute this entirely based on height and weight\n",
    "9. A1C: 57.5k entries are 0; could be because of infrequent recording; some text fields, so convert to numeric and coerce; some outliers; \n",
    "   infrequent information recording; like a reel; 3-4 months once recorded.\n",
    "   range = (4, 24) double digits maybe missing a decimal point!\n",
    "10. BP: 10.7k records are 0; some outliers and texts; recorded once in three months\n",
    "    range = (40, 200)\n",
    "11. DIA_BP: 9.9k entries are 0; some outliers; recorded once in three months\n",
    "    range = (40, 160)\n",
    "12. FS: 40k entries are 0; some outliers\n",
    "    range = (15, 1000)\n",
    "13. PP: 25.1k entries are 0; some outliers\n",
    "    range = (30, 1000)\n",
    "14. PULSE: 9316 entires are 0; some outliers and texts\n",
    "    range = (40, 160)    "
   ]
  },
  {
   "cell_type": "markdown",
   "id": "f8614c2d",
   "metadata": {},
   "source": [
    "## Extracting drug combinations:"
   ]
  },
  {
   "cell_type": "code",
   "execution_count": null,
   "id": "626c6f95",
   "metadata": {},
   "outputs": [],
   "source": [
    "pres_df = map_generic_names(pres_df, drug_df)\n",
    "pres_df = map_drug_classes(pres_df)\n",
    "pres_df.head()"
   ]
  },
  {
   "cell_type": "code",
   "execution_count": null,
   "id": "e09c23de",
   "metadata": {},
   "outputs": [],
   "source": [
    "pres_filt_df = extract_drug_combinations(pres_df)\n",
    "pres_filt_df.head()"
   ]
  },
  {
   "cell_type": "code",
   "execution_count": null,
   "id": "487c0ed0",
   "metadata": {},
   "outputs": [],
   "source": [
    "# visualize the frequency of each first-prescriotion drug combination:\n",
    "pres_filt_df[\"DRUG_COMBINATION\"].value_counts()"
   ]
  },
  {
   "cell_type": "code",
   "execution_count": null,
   "id": "c249cbd6",
   "metadata": {},
   "outputs": [],
   "source": [
    "ax = pres_filt_df[\"DRUG_COMBINATION\"].value_counts().plot(kind=\"bar\", figsize=(10, 8))\n",
    "ax.tick_params(\n",
    "    axis=\"x\",  # changes apply to the x-axis\n",
    "    which=\"both\",  # both major and minor ticks are affected\n",
    "    bottom=False,  # ticks along the bottom edge are off\n",
    "    top=False,  # ticks along the top edge are off\n",
    "    labelbottom=False,\n",
    ")  # labels along the bottom edge are off"
   ]
  },
  {
   "cell_type": "markdown",
   "id": "446c05b2",
   "metadata": {},
   "source": [
    "## Extracting A1c data:"
   ]
  },
  {
   "cell_type": "code",
   "execution_count": null,
   "id": "a1debe36",
   "metadata": {},
   "outputs": [],
   "source": [
    "meas_df = preprocess_measurements(meas_df)\n",
    "meas_df.head()"
   ]
  },
  {
   "cell_type": "code",
   "execution_count": null,
   "id": "96b87a8f",
   "metadata": {},
   "outputs": [],
   "source": [
    "meas_filt_df = meas_df.groupby([\"NFID\"]).apply(a1c_aggregator).dropna()\n",
    "meas_filt_df.head()"
   ]
  },
  {
   "cell_type": "code",
   "execution_count": null,
   "id": "edf02552",
   "metadata": {},
   "outputs": [],
   "source": [
    "meas_filt_df.info()\n",
    "# total number of new DM patients\n",
    "print(\"New T2DM patients: \", meas_filt_df.NEW_T2DM.sum())"
   ]
  },
  {
   "cell_type": "markdown",
   "id": "f24e29c3",
   "metadata": {},
   "source": [
    "## Calculating drug efficacy:"
   ]
  },
  {
   "cell_type": "code",
   "execution_count": null,
   "id": "d24947dc",
   "metadata": {},
   "outputs": [],
   "source": [
    "# combine the drug combinations and A1C values, count the drugs:\n",
    "efficacy_df = calculate_efficacy(pres_filt_df, meas_filt_df)\n",
    "efficacy_df.head()"
   ]
  },
  {
   "cell_type": "code",
   "execution_count": null,
   "id": "bbe6cdc1",
   "metadata": {},
   "outputs": [],
   "source": [
    "efficacy_df.mean_a1c_second.plot.hist(bins=50)"
   ]
  },
  {
   "cell_type": "code",
   "execution_count": null,
   "id": "4957dcbe",
   "metadata": {},
   "outputs": [],
   "source": [
    "# sort according to p-values:\n",
    "counts_cond = efficacy_df[\"patient_counts\"] > 80\n",
    "efficacy_df.loc[counts_cond].sort_values([\"p_value\"], ascending=True)\n",
    "# sort according to mean a1c reduction:\n",
    "# efficacy_df.loc[counts_cond].sort_values([\"mean_a1c_reduction\"], ascending=True)"
   ]
  },
  {
   "cell_type": "code",
   "execution_count": null,
   "id": "e8e38a45",
   "metadata": {},
   "outputs": [],
   "source": [
    "# plot the z-statistics:\n",
    "ax = (\n",
    "    efficacy_df.loc[counts_cond]\n",
    "    .sort_values([\"p_value\"], ascending=True)[\"z_statistics\"]\n",
    "    .plot.bar(figsize=(15, 10))\n",
    ")\n",
    "plt.xticks(ha=\"right\", rotation=45, fontsize=15, fontname=\"monospace\")\n",
    "plt.yticks(fontsize=15, fontname=\"monospace\")\n",
    "plt.xlabel(\"Drug combinations\", fontsize=15, fontname=\"monospace\")\n",
    "plt.ylabel(\"z-statistics\", fontsize=15, fontname=\"monospace\")\n",
    "plt.show()"
   ]
  },
  {
   "cell_type": "code",
   "execution_count": null,
   "id": "cfd8b36c",
   "metadata": {},
   "outputs": [],
   "source": [
    "extract_biguanide_combinations(efficacy_df, drug_counts=2)"
   ]
  },
  {
   "cell_type": "code",
   "execution_count": null,
   "id": "461a0559",
   "metadata": {},
   "outputs": [],
   "source": [
    "extract_biguanide_combinations(efficacy_df, drug_counts=3)"
   ]
  },
  {
   "cell_type": "code",
   "execution_count": null,
   "id": "8273237a",
   "metadata": {},
   "outputs": [],
   "source": [
    "extract_biguanide_combinations(efficacy_df, drug_counts=4)"
   ]
  }
 ],
 "metadata": {
  "kernelspec": {
   "display_name": "Python 3 (ipykernel)",
   "language": "python",
   "name": "python3"
  },
  "language_info": {
   "codemirror_mode": {
    "name": "ipython",
    "version": 3
   },
   "file_extension": ".py",
   "mimetype": "text/x-python",
   "name": "python",
   "nbconvert_exporter": "python",
   "pygments_lexer": "ipython3",
   "version": "3.8.12"
  }
 },
 "nbformat": 4,
 "nbformat_minor": 5
}
